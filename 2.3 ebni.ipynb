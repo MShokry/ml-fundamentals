{
 "cells": [
  {
   "cell_type": "code",
   "execution_count": 1,
   "metadata": {
    "collapsed": true
   },
   "outputs": [],
   "source": [
    "import graphlab"
   ]
  },
  {
   "cell_type": "code",
   "execution_count": 2,
   "metadata": {
    "collapsed": false
   },
   "outputs": [
    {
     "name": "stderr",
     "output_type": "stream",
     "text": [
      "[INFO] graphlab.cython.cy_server: GraphLab Create v2.1 started. Logging: /tmp/graphlab_server_1482431200.log\n"
     ]
    },
    {
     "name": "stdout",
     "output_type": "stream",
     "text": [
      "This non-commercial license of GraphLab Create for academic use is assigned to msn4eg@gmail.com and will expire on December 12, 2017.\n"
     ]
    }
   ],
   "source": [
    "sales = graphlab.SFrame('home_data.gl/')"
   ]
  },
  {
   "cell_type": "code",
   "execution_count": 3,
   "metadata": {
    "collapsed": false
   },
   "outputs": [
    {
     "name": "stdout",
     "output_type": "stream",
     "text": [
      "Canvas is accessible via web browser at the URL: http://localhost:44117/index.html\n",
      "Opening Canvas in default web browser.\n"
     ]
    }
   ],
   "source": [
    "sales.show()"
   ]
  },
  {
   "cell_type": "code",
   "execution_count": 4,
   "metadata": {
    "collapsed": false
   },
   "outputs": [],
   "source": [
    "graphlab.canvas.set_target('ipynb')"
   ]
  },
  {
   "cell_type": "code",
   "execution_count": 7,
   "metadata": {
    "collapsed": false
   },
   "outputs": [],
   "source": [
    "s1 = sales[(sales['sqft_living']>2000) & (sales['sqft_living']<4000) ]\n",
    "s1.materialize()"
   ]
  },
  {
   "cell_type": "code",
   "execution_count": 8,
   "metadata": {
    "collapsed": false
   },
   "outputs": [
    {
     "name": "stdout",
     "output_type": "stream",
     "text": [
      "+------------+---------------------------+---------+----------+-----------+-------------+\n",
      "|     id     |            date           |  price  | bedrooms | bathrooms | sqft_living |\n",
      "+------------+---------------------------+---------+----------+-----------+-------------+\n",
      "| 6414100192 | 2014-12-09 00:00:00+00:00 |  538000 |    3     |    2.25   |     2570    |\n",
      "| 1736800520 | 2015-04-03 00:00:00+00:00 |  662500 |    3     |    2.5    |     3560    |\n",
      "| 9297300055 | 2015-01-24 00:00:00+00:00 |  650000 |    4     |     3     |     2950    |\n",
      "| 2524049179 | 2014-08-26 00:00:00+00:00 | 2000000 |    3     |    2.75   |     3050    |\n",
      "| 7137970340 | 2014-07-03 00:00:00+00:00 |  285000 |    5     |    2.5    |     2270    |\n",
      "| 3814700200 | 2014-11-20 00:00:00+00:00 |  329000 |    3     |    2.25   |     2450    |\n",
      "| 1794500383 | 2014-06-26 00:00:00+00:00 |  937000 |    3     |    1.75   |     2450    |\n",
      "| 1873100390 | 2015-03-02 00:00:00+00:00 |  719000 |    4     |    2.5    |     2570    |\n",
      "| 8562750320 | 2014-11-10 00:00:00+00:00 |  580500 |    3     |    2.5    |     2320    |\n",
      "| 0461000390 | 2014-06-24 00:00:00+00:00 |  687500 |    4     |    1.75   |     2330    |\n",
      "+------------+---------------------------+---------+----------+-----------+-------------+\n",
      "+----------+--------+------------+------+-----------+-------+------------+---------------+\n",
      "| sqft_lot | floors | waterfront | view | condition | grade | sqft_above | sqft_basement |\n",
      "+----------+--------+------------+------+-----------+-------+------------+---------------+\n",
      "|   7242   |   2    |     0      |  0   |     3     |   7   |    2170    |      400      |\n",
      "|   9796   |   1    |     0      |  0   |     3     |   8   |    1860    |      1700     |\n",
      "|   5000   |   2    |     0      |  3   |     3     |   9   |    1980    |      970      |\n",
      "|  44867   |   1    |     0      |  4   |     3     |   9   |    2330    |      720      |\n",
      "|   6300   |   2    |     0      |  0   |     3     |   8   |    2270    |       0       |\n",
      "|   6500   |   2    |     0      |  0   |     4     |   8   |    2450    |       0       |\n",
      "|   2691   |   2    |     0      |  0   |     3     |   8   |    1750    |      700      |\n",
      "|   7173   |   2    |     0      |  0   |     3     |   8   |    2570    |       0       |\n",
      "|   3980   |   2    |     0      |  0   |     3     |   8   |    2320    |       0       |\n",
      "|   5000   |  1.5   |     0      |  0   |     4     |   7   |    1510    |      820      |\n",
      "+----------+--------+------------+------+-----------+-------+------------+---------------+\n",
      "+----------+--------------+---------+-------------+---------------+---------------+-----+\n",
      "| yr_built | yr_renovated | zipcode |     lat     |      long     | sqft_living15 | ... |\n",
      "+----------+--------------+---------+-------------+---------------+---------------+-----+\n",
      "|   1951   |     1991     |  98125  | 47.72102274 |  -122.3188624 |     1690.0    | ... |\n",
      "|   1965   |      0       |  98007  | 47.60065993 | -122.14529566 |     2210.0    | ... |\n",
      "|   1979   |      0       |  98126  | 47.57136955 | -122.37541218 |     2140.0    | ... |\n",
      "|   1968   |      0       |  98040  | 47.53164379 | -122.23345881 |     4110.0    | ... |\n",
      "|   1995   |      0       |  98092  | 47.32658071 | -122.16892624 |     2240.0    | ... |\n",
      "|   1985   |      0       |  98030  | 47.37386303 | -122.17228981 |     2200.0    | ... |\n",
      "|   1915   |      0       |  98119  | 47.63855772 | -122.35985573 |     1760.0    | ... |\n",
      "|   2005   |      0       |  98052  | 47.70732168 | -122.11029785 |     2630.0    | ... |\n",
      "|   2003   |      0       |  98027  |  47.5391103 | -122.06971484 |     2580.0    | ... |\n",
      "|   1929   |      0       |  98117  | 47.68228235 | -122.36760203 |     1460.0    | ... |\n",
      "+----------+--------------+---------+-------------+---------------+---------------+-----+\n",
      "[9111 rows x 21 columns]\n",
      "Note: Only the head of the SFrame is printed.\n",
      "You can use print_rows(num_rows=m, num_columns=n) to print more rows and columns.\n"
     ]
    }
   ],
   "source": [
    "print s1"
   ]
  },
  {
   "cell_type": "code",
   "execution_count": null,
   "metadata": {
    "collapsed": true
   },
   "outputs": [],
   "source": []
  }
 ],
 "metadata": {
  "kernelspec": {
   "display_name": "Python 2",
   "language": "python",
   "name": "python2"
  },
  "language_info": {
   "codemirror_mode": {
    "name": "ipython",
    "version": 2
   },
   "file_extension": ".py",
   "mimetype": "text/x-python",
   "name": "python",
   "nbconvert_exporter": "python",
   "pygments_lexer": "ipython2",
   "version": "2.7.12"
  }
 },
 "nbformat": 4,
 "nbformat_minor": 0
}
