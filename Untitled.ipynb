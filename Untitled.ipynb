{
 "cells": [
  {
   "cell_type": "code",
   "execution_count": 1,
   "metadata": {
    "collapsed": true
   },
   "outputs": [],
   "source": [
    "import graphlab"
   ]
  },
  {
   "cell_type": "code",
   "execution_count": 2,
   "metadata": {
    "collapsed": false
   },
   "outputs": [
    {
     "name": "stdout",
     "output_type": "stream",
     "text": [
      "This non-commercial license of GraphLab Create for academic use is assigned to msn4eg@gmail.com and will expire on December 12, 2017.\n"
     ]
    },
    {
     "name": "stderr",
     "output_type": "stream",
     "text": [
      "[INFO] graphlab.cython.cy_server: GraphLab Create v2.1 started. Logging: /tmp/graphlab_server_1482499467.log\n"
     ]
    }
   ],
   "source": [
    "sales = graphlab.SFrame('home_data.gl')"
   ]
  },
  {
   "cell_type": "code",
   "execution_count": 12,
   "metadata": {
    "collapsed": false
   },
   "outputs": [
    {
     "data": {
      "text/plain": [
       "['id',\n",
       " 'date',\n",
       " 'price',\n",
       " 'bedrooms',\n",
       " 'bathrooms',\n",
       " 'sqft_living',\n",
       " 'sqft_lot',\n",
       " 'floors',\n",
       " 'waterfront',\n",
       " 'view',\n",
       " 'condition',\n",
       " 'grade',\n",
       " 'sqft_above',\n",
       " 'sqft_basement',\n",
       " 'yr_built',\n",
       " 'yr_renovated',\n",
       " 'zipcode',\n",
       " 'lat',\n",
       " 'long',\n",
       " 'sqft_living15',\n",
       " 'sqft_lot15']"
      ]
     },
     "execution_count": 12,
     "metadata": {},
     "output_type": "execute_result"
    }
   ],
   "source": [
    "train_data , test_data = sales.random_split(.8 , seed =0)\n",
    "sales.column_names()"
   ]
  },
  {
   "cell_type": "code",
   "execution_count": 10,
   "metadata": {
    "collapsed": false
   },
   "outputs": [
    {
     "data": {
      "application/javascript": [
       "$(\"head\").append($(\"<link/>\").attr({\n",
       "  rel:  \"stylesheet\",\n",
       "  type: \"text/css\",\n",
       "  href: \"//cdnjs.cloudflare.com/ajax/libs/font-awesome/4.1.0/css/font-awesome.min.css\"\n",
       "}));\n",
       "$(\"head\").append($(\"<link/>\").attr({\n",
       "  rel:  \"stylesheet\",\n",
       "  type: \"text/css\",\n",
       "  href: \"https://static.turi.com/products/graphlab-create/2.1/canvas/css/canvas.css\"\n",
       "}));\n",
       "\n",
       "            (function(){\n",
       "\n",
       "                var e = null;\n",
       "                if (typeof element == 'undefined') {\n",
       "                    var scripts = document.getElementsByTagName('script');\n",
       "                    var thisScriptTag = scripts[scripts.length-1];\n",
       "                    var parentDiv = thisScriptTag.parentNode;\n",
       "                    e = document.createElement('div');\n",
       "                    parentDiv.appendChild(e);\n",
       "                } else {\n",
       "                    e = element[0];\n",
       "                }\n",
       "\n",
       "                if (typeof requirejs !== 'undefined') {\n",
       "                    // disable load timeout; ipython_app.js is large and can take a while to load.\n",
       "                    requirejs.config({waitSeconds: 0});\n",
       "                }\n",
       "\n",
       "                require(['https://static.turi.com/products/graphlab-create/2.1/canvas/js/ipython_app.js'], function(IPythonApp){\n",
       "                    var app = new IPythonApp();\n",
       "                    app.attachView('sframe','Plots', {\"selected_variable\": {\"name\": [\"sales\"], \"descriptives\": {\"rows\": 21613, \"columns\": 21}, \"view_component\": \"Plots\", \"view_file\": \"sframe\", \"view_params\": {\"y\": \"price\", \"x\": \"sqft_living\", \"columns\": [\"id\", \"date\", \"price\", \"bedrooms\", \"bathrooms\", \"sqft_living\", \"sqft_lot\", \"floors\", \"waterfront\", \"view\", \"condition\", \"grade\", \"sqft_above\", \"sqft_basement\", \"yr_built\", \"yr_renovated\", \"zipcode\", \"lat\", \"long\", \"sqft_living15\", \"sqft_lot15\"], \"view\": \"Scatter Plot\"}, \"view_components\": [\"Summary\", \"Table\", \"Bar Chart\", \"BoxWhisker Plot\", \"Line Chart\", \"Scatter Plot\", \"Heat Map\", \"Plots\"], \"type\": \"SFrame\", \"columns\": [{\"dtype\": \"str\", \"name\": \"id\"}, {\"dtype\": \"datetime\", \"name\": \"date\"}, {\"dtype\": \"int\", \"name\": \"price\"}, {\"dtype\": \"str\", \"name\": \"bedrooms\"}, {\"dtype\": \"str\", \"name\": \"bathrooms\"}, {\"dtype\": \"int\", \"name\": \"sqft_living\"}, {\"dtype\": \"int\", \"name\": \"sqft_lot\"}, {\"dtype\": \"str\", \"name\": \"floors\"}, {\"dtype\": \"int\", \"name\": \"waterfront\"}, {\"dtype\": \"int\", \"name\": \"view\"}, {\"dtype\": \"int\", \"name\": \"condition\"}, {\"dtype\": \"int\", \"name\": \"grade\"}, {\"dtype\": \"int\", \"name\": \"sqft_above\"}, {\"dtype\": \"int\", \"name\": \"sqft_basement\"}, {\"dtype\": \"int\", \"name\": \"yr_built\"}, {\"dtype\": \"int\", \"name\": \"yr_renovated\"}, {\"dtype\": \"str\", \"name\": \"zipcode\"}, {\"dtype\": \"float\", \"name\": \"lat\"}, {\"dtype\": \"float\", \"name\": \"long\"}, {\"dtype\": \"float\", \"name\": \"sqft_living15\"}, {\"dtype\": \"float\", \"name\": \"sqft_lot15\"}], \"column_identifiers\": [\"bathrooms\", \"sqft_living15\", \"sqft_above\", \"grade\", \"yr_built\", \"price\", \"bedrooms\", \"zipcode\", \"long\", \"id\", \"sqft_lot15\", \"sqft_living\", \"floors\", \"sqft_lot\", \"date\", \"waterfront\", \"sqft_basement\", \"yr_renovated\", \"lat\", \"condition\", \"view\"]}, \"complete\": 1, \"ipython\": true, \"progress\": 1.0, \"data\": [[1690, 725000], [1610, 235000], [2000, 417000], [2060, 335000], [1680, 510000], [1620, 399000], [2670, 1165000], [1450, 330000], [740, 350000], [2210, 299000], [1250, 318000], [3580, 700000], [2690, 346290], [3120, 790000], [2140, 365000], [2550, 415000], [1890, 395000], [1600, 485000], [1180, 330000], [840, 325000], [1440, 255500], [2100, 650000], [1170, 440000], [1072, 250000], [1330, 500000], [840, 86500], [3220, 697000], [1630, 395000], [1230, 385000], [1230, 415000], [2810, 533000], [1210, 430000], [2770, 679000], [670, 279000], [2500, 620000], [1800, 625000], [1720, 245000], [3130, 1389000], [2480, 489950], [2520, 500000], [3840, 556000], [1840, 620000], [2240, 327500], [3080, 679000], [1590, 630000], [290, 142000], [1240, 529950], [1010, 250000], [1100, 277000], [2480, 350000], [2120, 319990], [1140, 498000], [1680, 230000], [2650, 398651], [1840, 269500], [1940, 540000], [1300, 333760], [1780, 935000], [1560, 549000], [1200, 255000], [2010, 364000], [1800, 475000], [1810, 216000], [3220, 550000], [1660, 284000], [3620, 856000], [1000, 397000], [3160, 625000], [1320, 325000], [1210, 269000], [3130, 1375000], [1490, 685650], [2540, 719000], [2050, 245000], [820, 207000], [2420, 1100000], [2550, 537500], [1820, 283000], [1410, 410000], [2160, 312500], [2880, 680000], [2100, 505000], [2480, 374900], [1680, 356000], [3200, 735000], [2870, 525000], [1560, 382500], [1860, 400000], [820, 370000], [1650, 599000], [1260, 190000], [1960, 759000], [1060, 346000], [1580, 247000], [1580, 700000], [2860, 805000], [2200, 424000], [3320, 1695000], [2100, 990400], [5050, 1335000], [1870, 306000], [2140, 650000], [2730, 510000], [1820, 525000], [2600, 270000], [3790, 1600000], [1420, 485000], [1240, 188500], [1160, 324000], [2030, 470000], [2840, 589410], [2150, 587000], [1800, 437718], [1500, 239000], [1960, 500000], [3920, 850000], [1670, 490000], [2780, 475000], [1360, 399950], [2340, 995000], [3420, 890900], [1340, 240000], [2100, 750000], [1310, 304000], [700, 415000], [1880, 290000], [1140, 695000], [1710, 560000], [2400, 745000], [1540, 462500], [1930, 328000], [2850, 1275000], [2290, 326000], [1580, 425000], [2470, 1205000], [2580, 340000], [1700, 545000], [1520, 210000], [1450, 393000], [1010, 450000], [3430, 515000], [2010, 245000], [1220, 317500], [1060, 420000], [2900, 808900], [2424, 391500], [1250, 320000], [1630, 185850], [2370, 351000], [2370, 429900], [1230, 349950], [3010, 785000], [2830, 710000], [2640, 1100000], [3110, 799990], [3130, 1010000], [4490, 700000], [4290, 1705000], [1630, 581000], [1350, 499950], [1960, 552321], [2210, 412000], [4080, 1050000], [3090, 734000], [3490, 1311000], [2000, 595000], [1790, 375000], [1320, 420000], [3400, 865000], [1370, 371500], [940, 473000], [1110, 411500], [620, 382888], [3880, 917500], [2020, 496600], [3010, 500000], [2190, 920000], [2110, 565000], [2550, 850000], [1800, 180500], [1370, 797000], [3330, 905000], [1510, 516130], [1620, 842000], [1130, 354000], [2840, 790000], [2550, 847000], [1910, 425000], [1180, 713000], [2060, 580000], [1030, 299950], [1800, 375000], [1420, 460000], [1250, 450000], [1880, 520500], [1980, 606000], [730, 306950], [2230, 448000], [1560, 385000], [1030, 397380], [940, 252000], [2500, 670000], [1530, 725000], [3980, 1582500], [3880, 762300], [1320, 345000], [2260, 599000], [1070, 370000], [3290, 515000], [1310, 306500], [1590, 529000], [1720, 628000], [1020, 210000], [2714, 465000], [2730, 319500], [4850, 569950], [3220, 630000], [1830, 495000], [920, 215150], [2450, 359950], [2090, 274000], [3160, 848750], [940, 225000], [1850, 605000], [1950, 309000], [910, 221000], [1780, 280000], [3090, 760005], [1060, 326500], [1210, 335000], [1460, 420000], [1740, 340000], [1260, 342000], [1060, 385100], [2100, 600000], [1650, 233703], [2430, 1027000], [3050, 890000], [2100, 375000], [1610, 499000], [2190, 925000], [2390, 350000], [1800, 474900], [2760, 336000], [1470, 465000], [1030, 305000], [2120, 525000], [1390, 232000], [2550, 272000], [1890, 255000], [1920, 360000], [2920, 760000], [3980, 810000], [930, 200000], [1770, 514000], [1400, 431750], [6530, 1600000], [1290, 529100], [1010, 350000], [2460, 693000], [2720, 635000], [2230, 490000], [1210, 259000], [2210, 850000], [2280, 520000], [2600, 415000], [2680, 300000], [2000, 320000], [1220, 575000], [3570, 840000], [2120, 340000], [2580, 332220], [3360, 465000], [1470, 270000], [2260, 367000], [2380, 600000], [1760, 605000], [1860, 510000], [1400, 257000], [1830, 255000], [2600, 304900], [2550, 422500], [810, 235000], [1240, 379900], [1120, 401000], [1530, 231000], [2650, 424000], [1020, 208000], [2770, 950000], [1890, 587206], [1840, 538000], [1290, 315000], [1160, 425000], [2570, 329000], [2370, 400000], [1760, 810000], [2710, 535000], [1730, 258000], [3070, 420000], [1760, 471000], [2770, 653000], [2710, 1250000], [2590, 479000], [2040, 208633], [2370, 475000], [1950, 220000], [1070, 208000], [2300, 342000], [3180, 585000], [2430, 255000], [1615, 665000], [2750, 730000], [2240, 340000], [2220, 332500], [3160, 965000], [1480, 450000], [1400, 253400], [2760, 378000], [1820, 309933], [1900, 629000], [1320, 385000], [1240, 543000], [2350, 440000], [4410, 1268888], [3370, 785000], [3200, 422000], [1850, 287200], [2050, 740000], [2240, 480000], [1200, 263700], [2070, 690000], [1530, 235000], [2000, 300000], [4430, 1485000], [2650, 325000], [1340, 452000], [1500, 352500], [3410, 1039000], [1600, 439500], [2620, 749950], [1710, 287000], [2710, 399900], [770, 407500], [1390, 267500], [2580, 552250], [2550, 430000], [1220, 257000], [770, 212000], [1460, 175000], [1550, 300000], [1090, 196000], [1280, 215000], [1300, 295000], [4560, 1490000], [1580, 375000], [1050, 392500], [2110, 516200], [1420, 310000], [3060, 390000], [830, 425000], [2030, 499000], [750, 135000], [1700, 500000], [2790, 599000], [2380, 342000], [2890, 799200], [2820, 432000], [1340, 345000], [2840, 751000], [2870, 1555000], [2200, 268450], [1280, 687500], [2100, 515000], [2242, 328000], [760, 300000], [1450, 339000], [2510, 520000], [1400, 210000], [1920, 341000], [2420, 400000], [1590, 720000], [1850, 470000], [1360, 466950], [1210, 299900], [1520, 738000], [1600, 525000], [980, 400000], [2150, 414999], [4140, 720000], [2100, 426500], [2010, 319000], [1980, 490000], [3200, 1255000], [1570, 425000], [2300, 258750], [4360, 1258000], [2070, 400000], [2864, 380000], [1930, 230000], [2240, 290000], [4700, 900000], [2150, 380000], [2400, 405000], [1750, 437000], [1050, 165000], [1160, 312000], [1270, 280000], [2360, 589000], [1940, 446000], [830, 275000], [1140, 305000], [1730, 268000], [1870, 350500], [2680, 437500], [4133, 979500], [1690, 267000], [2085, 563500], [2210, 435000], [1880, 625000], [2620, 975000], [2070, 465000], [3400, 745000], [2480, 560000], [1390, 185000], [990, 620000], [3060, 775000], [1480, 269950], [7320, 1135250], [2300, 453500], [1480, 459000], [2990, 469900], [1360, 511500], [2270, 420000], [1510, 250000], [1390, 635000], [3260, 1880000], [2850, 608500], [2980, 350000], [1220, 469950], [2120, 578000], [2240, 635000], [1780, 450000], [2100, 303000], [1390, 530000], [1570, 535000], [2452, 430000], [1450, 400000], [1730, 470000], [1310, 241500], [2330, 669950], [1740, 395000], [860, 345000], [1400, 389000], [1440, 650000], [1510, 490000], [2700, 565000], [3030, 835000], [4190, 460000], [1530, 460000], [950, 200000], [1530, 387000], [1900, 353000], [1510, 230000], [1720, 279950], [1400, 359950], [2630, 454200], [1780, 350000], [2720, 1062000], [1252, 352000], [1450, 222500], [2330, 420000], [2460, 445000], [2100, 999999], [3110, 485000], [1700, 575000], [1550, 260000], [2510, 363000], [2100, 735000], [1970, 580000], [2370, 687000], [2820, 461500], [1980, 524000], [1940, 278500], [1440, 246000], [2090, 300000], [3527, 340000], [1240, 331000], [890, 207950], [1950, 601000], [2000, 284000], [1800, 285000], [3590, 1100000], [2560, 838000], [4270, 975000], [1510, 397500], [3200, 618000], [2150, 275000], [920, 208000], [3270, 560000], [1830, 336500], [1050, 474000], [3090, 855000], [1930, 295000], [760, 415000], [1250, 267100], [1000, 641500], [1510, 313950], [3190, 1700000], [1200, 130000], [4230, 879000], [2290, 753000], [2780, 550000], [1400, 246000], [2550, 587000], [1240, 234000], [1010, 325000], [940, 435000], [2240, 335500], [2200, 299900], [1010, 174500], [1940, 283748], [1730, 596000], [1410, 410000], [1820, 515000], [540, 345000], [1030, 367500], [1720, 498000], [3670, 920000], [2030, 275000], [880, 253000], [3700, 889950], [1780, 473600], [5220, 1565000], [2500, 740000], [1040, 204000], [2600, 1225000], [1700, 681000], [1620, 260656], [2009, 303210], [2620, 525000], [1540, 257000], [2170, 546800], [2420, 485000], [2950, 386500], [1950, 375000], [900, 146000], [2070, 560000], [1920, 625000], [3090, 1112750], [2750, 865000], [2410, 711800], [2220, 291375], [1560, 236000], [2500, 639000], [1570, 342000], [2040, 272000], [6980, 3100000], [2800, 676000], [1340, 354000], [1760, 215000], [1310, 330000], [1100, 285000], [1670, 785000], [2070, 503000], [1010, 470450], [2160, 440000], [1220, 935000], [2140, 329950], [1410, 274800], [1900, 435000], [1435, 390000], [3160, 545000], [1430, 487000], [2870, 399000], [710, 390000], [2450, 450000], [1320, 526000], [2470, 700000], [890, 230000], [1770, 242500], [1300, 417000], [3750, 1245000], [2110, 298700], [1360, 560000], [1700, 263950], [1270, 260000], [2480, 840000], [1620, 218000], [4740, 1049000], [1960, 860000], [1440, 487000], [1620, 750000], [910, 245000], [1770, 316500], [1440, 409000], [880, 196000], [1470, 640000], [2130, 233000], [1550, 707500], [2770, 700000], [2880, 499950], [1870, 419950], [1010, 269000], [1060, 170500], [1480, 250000], [2670, 494995], [1720, 664000], [940, 443500], [1730, 563000], [3100, 590000], [880, 208500], [1640, 716100], [3610, 587000], [3540, 550000], [2160, 601000], [1440, 476000], [1322, 215000], [1440, 253500], [3310, 1250000], [2900, 770000], [1540, 260000], [1200, 222400], [2230, 766500], [1380, 215500], [2140, 998500], [1720, 323000], [1260, 277500], [900, 152900], [2420, 415000], [1390, 745000], [960, 218000], [2290, 435000], [2500, 799000], [4140, 565000], [1870, 449000], [1070, 415000], [1200, 214000], [1160, 458500], [3100, 539950], [1710, 650000], [2280, 675000], [1120, 227950], [2820, 960000], [2280, 470000], [1490, 700000], [2650, 565000], [1040, 285650], [1980, 711000], [3710, 2537000], [1330, 540000], [1880, 565000], [1200, 412000], [820, 245000], [2100, 330000], [1030, 205000], [1750, 315000], [700, 267800], [3280, 702000], [3230, 826600], [1830, 682000], [1140, 269900], [2280, 420000], [3060, 475000], [2740, 648000], [2470, 607000], [2020, 415000], [2810, 812500], [2490, 1705000], [3000, 398950], [2500, 425000], [1140, 518000], [2720, 740000], [1800, 364000], [2130, 580000], [5040, 1284000], [2210, 733000], [980, 329000], [940, 223000], [950, 320000], [1730, 299000], [2830, 1035292], [700, 209995], [2000, 334000], [1340, 324950], [1250, 458500], [1580, 428000], [3550, 775000], [1440, 395000], [1550, 280000], [1110, 223000], [1730, 499990], [4570, 1484900], [1810, 252500], [1900, 715000], [2120, 369160], [1990, 760500], [2830, 700000], [3650, 824000], [2430, 570000], [1080, 379950], [3030, 740000], [1020, 450000], [3596, 580000], [3840, 875000], [1390, 280950], [3990, 1068000], [1370, 720000], [1970, 315000], [2390, 735000], [3150, 727000], [1790, 425000], [3090, 1110000], [1960, 724950], [4240, 1049990], [1250, 344000], [1790, 409950], [1960, 215000], [2670, 749000], [1770, 630000], [2200, 365000], [2040, 500000], [960, 565000], [2620, 650000], [3240, 870000], [2380, 529000], [1440, 255000], [4030, 920000], [1260, 335000], [7620, 1680000], [1850, 510000], [1710, 158550], [2900, 790000], [2090, 405000], [1560, 915000], [1120, 316000], [2130, 435000], [2700, 480000], [1860, 535000], [3400, 1300000], [1420, 202000], [1860, 380000], [1470, 491500], [2620, 852000], [1610, 259950], [2410, 883000], [2420, 771000], [1080, 390000], [1610, 203000], [3490, 414000], [2150, 470000], [2990, 785000], [1250, 462000], [1000, 424950], [2380, 699800], [1290, 232000], [1330, 500000], [2970, 1565000], [1630, 740000], [1970, 350000], [1920, 432000], [2200, 680000], [2800, 439000], [1150, 225000], [3100, 800000], [920, 363000], [5000, 1730000], [4410, 1881583], [1150, 215000], [1620, 532500], [3160, 805000], [2230, 305000], [1510, 675000], [2540, 1190000], [1590, 323000], [2810, 555000], [2070, 741000], [3780, 1153000], [1910, 493000], [2560, 823000], [4860, 2250000], [3070, 350000], [2360, 480000], [2050, 375000], [2260, 833000], [2320, 451000], [2540, 425000], [2410, 635000], [2140, 502000], [2350, 440000], [2200, 535000], [1670, 475200], [2350, 449000], [1630, 419900], [2190, 699900], [970, 546000], [3730, 649500], [4010, 1150000], [2420, 712500], [1340, 635000], [750, 263500], [950, 193000], [1660, 712500], [3890, 430000], [1690, 318000], [1440, 478000], [860, 298800], [1600, 495000], [1000, 265000], [3010, 401000], [2100, 607000], [1110, 320000], [1940, 780000], [1200, 420000], [1550, 255000], [1770, 667000], [5440, 1769000], [1940, 488000], [1660, 680000], [780, 190000], [1330, 482500], [740, 175000], [2320, 934550], [1980, 295000], [3170, 919950], [1270, 433000], [1700, 475000], [1170, 285950], [860, 370000], [2070, 250000], [1250, 268000], [1770, 390000], [2650, 745000], [1639, 450000], [1952, 270500], [2200, 432000], [940, 340500], [1870, 375000], [1690, 462500], [1360, 450000], [2110, 243500], [1680, 588000], [1810, 268643], [1620, 350000], [2980, 480000], [3460, 1088889], [2070, 699950], [1270, 400000], [1260, 475000], [3020, 1185000], [2620, 922000], [6210, 3200000], [860, 160000], [750, 258305], [1090, 598800], [1730, 960000], [1530, 446000], [1630, 313000], [3420, 1225000], [2300, 329950], [1500, 383000], [1590, 190000], [1630, 290000], [2940, 845000], [1470, 400000], [1700, 331500], [1230, 424000], [1770, 420000], [2570, 397500], [2070, 535000], [4670, 1238000], [2210, 660000], [1640, 580000], [1010, 345000], [1190, 445000], [1930, 425000], [2870, 690700], [1930, 559000], [2770, 685000], [1890, 521000], [1608, 280000], [800, 280000], [1890, 280500], [2880, 920000], [2160, 555000], [1350, 225000], [890, 180000], [1610, 450000], [4470, 1120000], [2770, 575000], [1390, 186950], [1670, 605000], [1670, 425000], [2020, 532000], [3190, 2125000], [1800, 325000], [2820, 318000], [2480, 390000], [2160, 532500], [1860, 560000], [1070, 420000], [2350, 299000], [590, 156000], [3090, 549950], [1780, 320000], [2360, 569900], [3770, 1020000], [1460, 330000], [2331, 345000], [2090, 700000], [1660, 380000], [1390, 288790], [1790, 430000], [1620, 249950], [520, 310000], [2600, 339900], [3610, 830005], [2050, 427000], [1510, 400000], [1430, 200000], [1300, 515000], [1700, 895000], [3450, 755000], [2740, 441000], [2340, 290000], [2890, 978000], [1720, 537000], [900, 157340], [2390, 420000], [1320, 304000], [5770, 1535000], [2620, 519000], [2720, 709050], [1390, 686500], [3490, 759000], [770, 252500], [2550, 1020000], [1580, 279900], [900, 89000], [3920, 1650000], [2683, 822000], [1880, 618000], [950, 285000], [1445, 415000], [4590, 1710000], [2680, 721000], [6040, 1150000], [3160, 820000], [1870, 475000], [3450, 688000], [2060, 545000], [2140, 245000], [2910, 1398000], [2010, 875000], [1670, 582000], [1960, 365000], [1450, 450000], [2710, 1430000], [1030, 225000], [2568, 425996], [1770, 275000], [2670, 605000], [1260, 405000], [2170, 619500], [1730, 226450], [1650, 233500], [1480, 410000], [2950, 455000], [2154, 390000], [1540, 433500], [2850, 993000], [3140, 389950], [1200, 234000], [1090, 143000], [1160, 361550], [3140, 1640000], [1300, 394950], [2960, 500000], [3440, 1285000], [1650, 440000], [1030, 427200], [2630, 610000], [1530, 450000], [2450, 849000], [1560, 598500], [1190, 515000], [2160, 440000], [1270, 365000], [2830, 705000], [2290, 590000], [2850, 1150000], [2350, 620000], [1530, 570000], [1890, 437000], [1860, 445000], [2840, 790000], [2160, 520000], [1490, 615000], [1278, 358000], [2640, 360000], [3430, 1211000]], \"columns\": [{\"dtype\": \"str\", \"name\": \"id\"}, {\"dtype\": \"datetime\", \"name\": \"date\"}, {\"dtype\": \"int\", \"name\": \"price\"}, {\"dtype\": \"str\", \"name\": \"bedrooms\"}, {\"dtype\": \"str\", \"name\": \"bathrooms\"}, {\"dtype\": \"int\", \"name\": \"sqft_living\"}, {\"dtype\": \"int\", \"name\": \"sqft_lot\"}, {\"dtype\": \"str\", \"name\": \"floors\"}, {\"dtype\": \"int\", \"name\": \"waterfront\"}, {\"dtype\": \"int\", \"name\": \"view\"}, {\"dtype\": \"int\", \"name\": \"condition\"}, {\"dtype\": \"int\", \"name\": \"grade\"}, {\"dtype\": \"int\", \"name\": \"sqft_above\"}, {\"dtype\": \"int\", \"name\": \"sqft_basement\"}, {\"dtype\": \"int\", \"name\": \"yr_built\"}, {\"dtype\": \"int\", \"name\": \"yr_renovated\"}, {\"dtype\": \"str\", \"name\": \"zipcode\"}, {\"dtype\": \"float\", \"name\": \"lat\"}, {\"dtype\": \"float\", \"name\": \"long\"}, {\"dtype\": \"float\", \"name\": \"sqft_living15\"}, {\"dtype\": \"float\", \"name\": \"sqft_lot15\"}]}, e);\n",
       "                });\n",
       "            })();\n",
       "        "
      ]
     },
     "metadata": {},
     "output_type": "display_data"
    }
   ],
   "source": [
    "graphlab.canvas.set_target('ipynb')\n",
    "sales.show(view='Scatter Plot',x='sqft_living',y='price' )"
   ]
  },
  {
   "cell_type": "code",
   "execution_count": 13,
   "metadata": {
    "collapsed": false
   },
   "outputs": [
    {
     "name": "stdout",
     "output_type": "stream",
     "text": [
      "PROGRESS: Creating a validation set from 5 percent of training data. This may take a while.\n",
      "          You can set ``validation_set=None`` to disable validation tracking.\n",
      "\n"
     ]
    },
    {
     "data": {
      "text/html": [
       "<pre>Linear regression:</pre>"
      ],
      "text/plain": [
       "Linear regression:"
      ]
     },
     "metadata": {},
     "output_type": "display_data"
    },
    {
     "data": {
      "text/html": [
       "<pre>--------------------------------------------------------</pre>"
      ],
      "text/plain": [
       "--------------------------------------------------------"
      ]
     },
     "metadata": {},
     "output_type": "display_data"
    },
    {
     "data": {
      "text/html": [
       "<pre>Number of examples          : 16541</pre>"
      ],
      "text/plain": [
       "Number of examples          : 16541"
      ]
     },
     "metadata": {},
     "output_type": "display_data"
    },
    {
     "data": {
      "text/html": [
       "<pre>Number of features          : 18</pre>"
      ],
      "text/plain": [
       "Number of features          : 18"
      ]
     },
     "metadata": {},
     "output_type": "display_data"
    },
    {
     "data": {
      "text/html": [
       "<pre>Number of unpacked features : 18</pre>"
      ],
      "text/plain": [
       "Number of unpacked features : 18"
      ]
     },
     "metadata": {},
     "output_type": "display_data"
    },
    {
     "data": {
      "text/html": [
       "<pre>Number of coefficients    : 127</pre>"
      ],
      "text/plain": [
       "Number of coefficients    : 127"
      ]
     },
     "metadata": {},
     "output_type": "display_data"
    },
    {
     "data": {
      "text/html": [
       "<pre>Starting Newton Method</pre>"
      ],
      "text/plain": [
       "Starting Newton Method"
      ]
     },
     "metadata": {},
     "output_type": "display_data"
    },
    {
     "data": {
      "text/html": [
       "<pre>--------------------------------------------------------</pre>"
      ],
      "text/plain": [
       "--------------------------------------------------------"
      ]
     },
     "metadata": {},
     "output_type": "display_data"
    },
    {
     "data": {
      "text/html": [
       "<pre>+-----------+----------+--------------+--------------------+----------------------+---------------+-----------------+</pre>"
      ],
      "text/plain": [
       "+-----------+----------+--------------+--------------------+----------------------+---------------+-----------------+"
      ]
     },
     "metadata": {},
     "output_type": "display_data"
    },
    {
     "data": {
      "text/html": [
       "<pre>| Iteration | Passes   | Elapsed Time | Training-max_error | Validation-max_error | Training-rmse | Validation-rmse |</pre>"
      ],
      "text/plain": [
       "| Iteration | Passes   | Elapsed Time | Training-max_error | Validation-max_error | Training-rmse | Validation-rmse |"
      ]
     },
     "metadata": {},
     "output_type": "display_data"
    },
    {
     "data": {
      "text/html": [
       "<pre>+-----------+----------+--------------+--------------------+----------------------+---------------+-----------------+</pre>"
      ],
      "text/plain": [
       "+-----------+----------+--------------+--------------------+----------------------+---------------+-----------------+"
      ]
     },
     "metadata": {},
     "output_type": "display_data"
    },
    {
     "data": {
      "text/html": [
       "<pre>| 1         | 2        | 1.063228     | 3462766.355735     | 1382928.188585       | 154962.196551 | 148220.941195   |</pre>"
      ],
      "text/plain": [
       "| 1         | 2        | 1.063228     | 3462766.355735     | 1382928.188585       | 154962.196551 | 148220.941195   |"
      ]
     },
     "metadata": {},
     "output_type": "display_data"
    },
    {
     "data": {
      "text/html": [
       "<pre>+-----------+----------+--------------+--------------------+----------------------+---------------+-----------------+</pre>"
      ],
      "text/plain": [
       "+-----------+----------+--------------+--------------------+----------------------+---------------+-----------------+"
      ]
     },
     "metadata": {},
     "output_type": "display_data"
    },
    {
     "data": {
      "text/html": [
       "<pre>SUCCESS: Optimal solution found.</pre>"
      ],
      "text/plain": [
       "SUCCESS: Optimal solution found."
      ]
     },
     "metadata": {},
     "output_type": "display_data"
    },
    {
     "data": {
      "text/html": [
       "<pre></pre>"
      ],
      "text/plain": []
     },
     "metadata": {},
     "output_type": "display_data"
    }
   ],
   "source": [
    "features_a = ['bedrooms',\n",
    " 'bathrooms',\n",
    " 'sqft_living',\n",
    " 'sqft_lot',\n",
    " 'floors',\n",
    " 'waterfront',\n",
    " 'view',\n",
    " 'condition',\n",
    " 'grade',\n",
    " 'sqft_above',\n",
    " 'sqft_basement',\n",
    " 'yr_built',\n",
    " 'yr_renovated',\n",
    " 'zipcode',\n",
    " 'lat',\n",
    " 'long',\n",
    " 'sqft_living15',\n",
    " 'sqft_lot15']\n",
    "liner_model = graphlab.linear_regression.create(train_data ,target='price' , features=features_a  )"
   ]
  },
  {
   "cell_type": "code",
   "execution_count": 14,
   "metadata": {
    "collapsed": false
   },
   "outputs": [
    {
     "data": {
      "text/plain": [
       "{'max_error': 3549510.864405892, 'rmse': 156670.4535414354}"
      ]
     },
     "execution_count": 14,
     "metadata": {},
     "output_type": "execute_result"
    }
   ],
   "source": [
    "liner_model.evaluate(test_data)"
   ]
  },
  {
   "cell_type": "code",
   "execution_count": 15,
   "metadata": {
    "collapsed": true
   },
   "outputs": [],
   "source": [
    "import matplotlib.pyplot as plt\n",
    "%matplotlib inline"
   ]
  },
  {
   "cell_type": "code",
   "execution_count": 17,
   "metadata": {
    "collapsed": false
   },
   "outputs": [
    {
     "data": {
      "text/plain": [
       "[<matplotlib.lines.Line2D at 0x7feb44282dd0>,\n",
       " <matplotlib.lines.Line2D at 0x7feb44282e90>]"
      ]
     },
     "execution_count": 17,
     "metadata": {},
     "output_type": "execute_result"
    },
    {
     "data": {
      "image/png": "[encoded data removed]",
      "text/plain": [
       "<matplotlib.figure.Figure at 0x7feb443ca290>"
      ]
     },
     "metadata": {},
     "output_type": "display_data"
    }
   ],
   "source": [
    "plt.plot(test_data['sqft_living'],test_data['price'], '.',\n",
    "        test_data['sqft_living'],liner_model.predict(test_data),'-')"
   ]
  },
  {
   "cell_type": "code",
   "execution_count": 2,
   "metadata": {
    "collapsed": false
   },
   "outputs": [
    {
     "ename": "ToolkitError",
     "evalue": "Input sa is not an SArray.",
     "output_type": "error",
     "traceback": [
      "\u001b[1;31m---------------------------------------------------------------------------\u001b[0m",
      "\u001b[1;31mToolkitError\u001b[0m                              Traceback (most recent call last)",
      "\u001b[1;32m<ipython-input-2-8d06e2868ff4>\u001b[0m in \u001b[0;36m<module>\u001b[1;34m()\u001b[0m\n\u001b[1;32m----> 1\u001b[1;33m \u001b[0mgraphlab\u001b[0m\u001b[1;33m.\u001b[0m\u001b[0mtext_analytics\u001b[0m\u001b[1;33m.\u001b[0m\u001b[0mcount_words\u001b[0m\u001b[1;33m(\u001b[0m\u001b[1;34m\"the wheels on the bus go round and round\"\u001b[0m\u001b[1;33m)\u001b[0m\u001b[1;33m\u001b[0m\u001b[0m\n\u001b[0m",
      "\u001b[1;32m/home/mshokry/anaconda2/envs/gl-env/lib/python2.7/site-packages/graphlab/toolkits/text_analytics/_util.pyc\u001b[0m in \u001b[0;36mcount_words\u001b[1;34m(sa, to_lower, delimiters)\u001b[0m\n\u001b[0;32m    246\u001b[0m     \u001b[0m_mt\u001b[0m\u001b[1;33m.\u001b[0m\u001b[0m_get_metric_tracker\u001b[0m\u001b[1;33m(\u001b[0m\u001b[1;33m)\u001b[0m\u001b[1;33m.\u001b[0m\u001b[0mtrack\u001b[0m\u001b[1;33m(\u001b[0m\u001b[1;34m'toolkit.text_analytics.count_words'\u001b[0m\u001b[1;33m)\u001b[0m\u001b[1;33m\u001b[0m\u001b[0m\n\u001b[0;32m    247\u001b[0m \u001b[1;33m\u001b[0m\u001b[0m\n\u001b[1;32m--> 248\u001b[1;33m     \u001b[0m_raise_error_if_not_sarray\u001b[0m\u001b[1;33m(\u001b[0m\u001b[0msa\u001b[0m\u001b[1;33m,\u001b[0m \u001b[1;34m\"sa\"\u001b[0m\u001b[1;33m)\u001b[0m\u001b[1;33m\u001b[0m\u001b[0m\n\u001b[0m\u001b[0;32m    249\u001b[0m \u001b[1;33m\u001b[0m\u001b[0m\n\u001b[0;32m    250\u001b[0m     \u001b[1;31m## Compute word counts\u001b[0m\u001b[1;33m\u001b[0m\u001b[1;33m\u001b[0m\u001b[0m\n",
      "\u001b[1;32m/home/mshokry/anaconda2/envs/gl-env/lib/python2.7/site-packages/graphlab/toolkits/_internal_utils.pyc\u001b[0m in \u001b[0;36m_raise_error_if_not_sarray\u001b[1;34m(dataset, variable_name)\u001b[0m\n\u001b[0;32m    384\u001b[0m     \u001b[0merr_msg\u001b[0m \u001b[1;33m=\u001b[0m \u001b[1;34m\"Input %s is not an SArray.\"\u001b[0m\u001b[1;33m\u001b[0m\u001b[0m\n\u001b[0;32m    385\u001b[0m     \u001b[1;32mif\u001b[0m \u001b[1;32mnot\u001b[0m \u001b[0misinstance\u001b[0m\u001b[1;33m(\u001b[0m\u001b[0mdataset\u001b[0m\u001b[1;33m,\u001b[0m \u001b[0m_SArray\u001b[0m\u001b[1;33m)\u001b[0m\u001b[1;33m:\u001b[0m\u001b[1;33m\u001b[0m\u001b[0m\n\u001b[1;32m--> 386\u001b[1;33m       \u001b[1;32mraise\u001b[0m \u001b[0mToolkitError\u001b[0m\u001b[1;33m(\u001b[0m\u001b[0merr_msg\u001b[0m \u001b[1;33m%\u001b[0m \u001b[0mvariable_name\u001b[0m\u001b[1;33m)\u001b[0m\u001b[1;33m\u001b[0m\u001b[0m\n\u001b[0m\u001b[0;32m    387\u001b[0m \u001b[1;33m\u001b[0m\u001b[0m\n\u001b[0;32m    388\u001b[0m \u001b[1;32mdef\u001b[0m \u001b[0m_raise_error_if_not_sframe\u001b[0m\u001b[1;33m(\u001b[0m\u001b[0mdataset\u001b[0m\u001b[1;33m,\u001b[0m \u001b[0mvariable_name\u001b[0m\u001b[1;33m=\u001b[0m\u001b[1;34m\"SFrame\"\u001b[0m\u001b[1;33m)\u001b[0m\u001b[1;33m:\u001b[0m\u001b[1;33m\u001b[0m\u001b[0m\n",
      "\u001b[1;31mToolkitError\u001b[0m: Input sa is not an SArray."
     ]
    }
   ],
   "source": [
    "\n",
    "graphlab.text_analytics.count_words(\"the wheels on the bus go round and round\")"
   ]
  },
  {
   "cell_type": "code",
   "execution_count": null,
   "metadata": {
    "collapsed": true
   },
   "outputs": [],
   "source": []
  }
 ],
 "metadata": {
  "kernelspec": {
   "display_name": "Python 2",
   "language": "python",
   "name": "python2"
  },
  "language_info": {
   "codemirror_mode": {
    "name": "ipython",
    "version": 2
   },
   "file_extension": ".py",
   "mimetype": "text/x-python",
   "name": "python",
   "nbconvert_exporter": "python",
   "pygments_lexer": "ipython2",
   "version": "2.7.12"
  }
 },
 "nbformat": 4,
 "nbformat_minor": 0
}
